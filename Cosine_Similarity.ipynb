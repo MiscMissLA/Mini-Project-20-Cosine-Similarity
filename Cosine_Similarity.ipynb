{
  "nbformat": 4,
  "nbformat_minor": 0,
  "metadata": {
    "colab": {
      "provenance": [],
      "authorship_tag": "ABX9TyPuCzivhMREW9VG/fn0mcZQ",
      "include_colab_link": true
    },
    "kernelspec": {
      "name": "python3",
      "display_name": "Python 3"
    },
    "language_info": {
      "name": "python"
    }
  },
  "cells": [
    {
      "cell_type": "markdown",
      "metadata": {
        "id": "view-in-github",
        "colab_type": "text"
      },
      "source": [
        "<a href=\"https://colab.research.google.com/github/MiscMissLA/Mini-Project-20-Cosine-Similarity/blob/main/Cosine_Similarity.ipynb\" target=\"_parent\"><img src=\"https://colab.research.google.com/assets/colab-badge.svg\" alt=\"Open In Colab\"/></a>"
      ]
    },
    {
      "cell_type": "code",
      "source": [
        "# Manually enter:\n",
        "documents = [input(\"Enter doc1: \"), input(\"Enter doc2: \")]\n",
        "\n",
        "# Or upload files and read them:\n",
        "from google.colab import files\n",
        "uploaded = files.upload()\n",
        "\n",
        "documents = []\n",
        "for fn in uploaded.keys():\n",
        "    with open(fn, 'r') as f:\n",
        "        documents.append(f.read())"
      ],
      "metadata": {
        "id": "KnAobE5JDc8U"
      },
      "execution_count": null,
      "outputs": []
    },
    {
      "cell_type": "code",
      "execution_count": 1,
      "metadata": {
        "colab": {
          "base_uri": "https://localhost:8080/"
        },
        "id": "EJ5LNWBzDVEW",
        "outputId": "d19a794d-ad89-44ba-bbeb-11e6e636379e"
      },
      "outputs": [
        {
          "output_type": "stream",
          "name": "stdout",
          "text": [
            "Requirement already satisfied: scikit-learn in /usr/local/lib/python3.11/dist-packages (1.6.1)\n",
            "Requirement already satisfied: numpy>=1.19.5 in /usr/local/lib/python3.11/dist-packages (from scikit-learn) (2.0.2)\n",
            "Requirement already satisfied: scipy>=1.6.0 in /usr/local/lib/python3.11/dist-packages (from scikit-learn) (1.15.3)\n",
            "Requirement already satisfied: joblib>=1.2.0 in /usr/local/lib/python3.11/dist-packages (from scikit-learn) (1.5.1)\n",
            "Requirement already satisfied: threadpoolctl>=3.1.0 in /usr/local/lib/python3.11/dist-packages (from scikit-learn) (3.6.0)\n",
            "🔍 Cosine Similarity Matrix:\n",
            "          Doc1      Doc2  Doc3      Doc4\n",
            "Doc1  1.000000  0.443469   0.0  0.245039\n",
            "Doc2  0.443469  1.000000   0.0  0.000000\n",
            "Doc3  0.000000  0.000000   1.0  0.000000\n",
            "Doc4  0.245039  0.000000   0.0  1.000000\n"
          ]
        }
      ],
      "source": [
        "# ✅ Step 1: Install dependencies\n",
        "!pip install scikit-learn\n",
        "\n",
        "# ✅ Step 2: Import required libraries\n",
        "from sklearn.feature_extraction.text import TfidfVectorizer\n",
        "from sklearn.metrics.pairwise import cosine_similarity\n",
        "\n",
        "# ✅ Step 3: Sample documents (you can change these)\n",
        "documents = [\n",
        "    \"Artificial Intelligence and Machine Learning are the future.\",\n",
        "    \"Machine Learning is a subset of Artificial Intelligence.\",\n",
        "    \"I love playing football on weekends.\",\n",
        "    \"AI and ML are widely used in healthcare and finance.\"\n",
        "]\n",
        "\n",
        "# ✅ Step 4: Convert texts to TF-IDF vectors\n",
        "vectorizer = TfidfVectorizer()\n",
        "tfidf_matrix = vectorizer.fit_transform(documents)\n",
        "\n",
        "# ✅ Step 5: Compute cosine similarity matrix\n",
        "cosine_sim = cosine_similarity(tfidf_matrix)\n",
        "\n",
        "# ✅ Step 6: Display the similarity matrix\n",
        "import pandas as pd\n",
        "\n",
        "df = pd.DataFrame(cosine_sim, columns=[f'Doc{i+1}' for i in range(len(documents))],\n",
        "                             index=[f'Doc{i+1}' for i in range(len(documents))])\n",
        "\n",
        "print(\"🔍 Cosine Similarity Matrix:\")\n",
        "print(df)\n"
      ]
    }
  ]
}